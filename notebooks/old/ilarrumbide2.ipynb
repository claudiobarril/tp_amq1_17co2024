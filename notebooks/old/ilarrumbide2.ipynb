{
 "cells": [
  {
   "cell_type": "code",
   "execution_count": 70,
   "metadata": {},
   "outputs": [],
   "source": [
    "import pandas as pd\n",
    "import numpy as np\n",
    "import matplotlib.pyplot as plt\n",
    "import seaborn as sns\n",
    "from sklearn.preprocessing import StandardScaler, OneHotEncoder\n",
    "from sklearn.cluster import DBSCAN\n",
    "from sklearn.decomposition import PCA\n",
    "from sklearn.manifold import TSNE\n",
    "from sklearn.pipeline import Pipeline\n",
    "from sklearn.compose import ColumnTransformer\n",
    "from sklearn.model_selection import train_test_split\n",
    "from sklearn.experimental import enable_iterative_imputer\n",
    "from sklearn.impute import IterativeImputer\n",
    "import re\n"
   ]
  },
  {
   "cell_type": "code",
   "execution_count": 71,
   "metadata": {},
   "outputs": [],
   "source": [
    "data = pd.read_csv('../datasets/Car details v3.csv')"
   ]
  },
  {
   "cell_type": "markdown",
   "metadata": {},
   "source": [
    "# Primer paso dividir conjunto de entrenamiento entre train y test simulando un escenario real"
   ]
  },
  {
   "cell_type": "markdown",
   "metadata": {},
   "source": [
    "Nuestro objetivo es predicir el selling_price"
   ]
  },
  {
   "cell_type": "code",
   "execution_count": 72,
   "metadata": {},
   "outputs": [],
   "source": [
    "X = data.drop('selling_price',axis=1)\n",
    "y = data['selling_price']"
   ]
  },
  {
   "cell_type": "markdown",
   "metadata": {},
   "source": [
    "Dividimos nuestro conjunto de entrenamiento entre test y train dejando el 30% para hacer pruebas"
   ]
  },
  {
   "cell_type": "code",
   "execution_count": 73,
   "metadata": {},
   "outputs": [],
   "source": [
    "X_train, X_test, y_train, y_test = train_test_split(X, y, test_size=0.3, random_state=42)"
   ]
  },
  {
   "cell_type": "markdown",
   "metadata": {},
   "source": [
    "# Cleaning"
   ]
  },
  {
   "cell_type": "markdown",
   "metadata": {},
   "source": [
    "## Tipo de datos"
   ]
  },
  {
   "cell_type": "code",
   "execution_count": 74,
   "metadata": {},
   "outputs": [
    {
     "name": "stdout",
     "output_type": "stream",
     "text": [
      "<class 'pandas.core.frame.DataFrame'>\n",
      "Index: 5689 entries, 6783 to 7270\n",
      "Data columns (total 12 columns):\n",
      " #   Column        Non-Null Count  Dtype  \n",
      "---  ------        --------------  -----  \n",
      " 0   name          5689 non-null   object \n",
      " 1   year          5689 non-null   int64  \n",
      " 2   km_driven     5689 non-null   int64  \n",
      " 3   fuel          5689 non-null   object \n",
      " 4   seller_type   5689 non-null   object \n",
      " 5   transmission  5689 non-null   object \n",
      " 6   owner         5689 non-null   object \n",
      " 7   mileage       5538 non-null   object \n",
      " 8   engine        5538 non-null   object \n",
      " 9   max_power     5541 non-null   object \n",
      " 10  torque        5537 non-null   object \n",
      " 11  seats         5538 non-null   float64\n",
      "dtypes: float64(1), int64(2), object(9)\n",
      "memory usage: 577.8+ KB\n"
     ]
    }
   ],
   "source": [
    "X_train.info()"
   ]
  },
  {
   "cell_type": "code",
   "execution_count": 75,
   "metadata": {},
   "outputs": [],
   "source": [
    "X_train[['make', 'model']] = X_train['name'].str.split(' ', n=1, expand=True)"
   ]
  },
  {
   "cell_type": "code",
   "execution_count": 76,
   "metadata": {},
   "outputs": [],
   "source": [
    "def impute_mileage_with_equivalent_car(df):\n",
    "  for idx, row in df[df['mileage'] == '0.0 kmpl'].iterrows():\n",
    "    similar_condition = (df['name'] == row['name']) & (df['year'] == row['year']) & (df['fuel'] == row['fuel'])\n",
    "    similar_vehicles = df[similar_condition]\n",
    "\n",
    "    if not similar_vehicles.empty:\n",
    "      df.at[idx, 'mileage'] = similar_vehicles['mileage'].iloc[0]\n",
    "  return df\n",
    "\n",
    "X_train['mileage'] = impute_mileage_with_equivalent_car(X_train)['mileage']"
   ]
  },
  {
   "cell_type": "code",
   "execution_count": 77,
   "metadata": {},
   "outputs": [
    {
     "data": {
      "text/html": [
       "<div>\n",
       "<style scoped>\n",
       "    .dataframe tbody tr th:only-of-type {\n",
       "        vertical-align: middle;\n",
       "    }\n",
       "\n",
       "    .dataframe tbody tr th {\n",
       "        vertical-align: top;\n",
       "    }\n",
       "\n",
       "    .dataframe thead th {\n",
       "        text-align: right;\n",
       "    }\n",
       "</style>\n",
       "<table border=\"1\" class=\"dataframe\">\n",
       "  <thead>\n",
       "    <tr style=\"text-align: right;\">\n",
       "      <th></th>\n",
       "      <th>name</th>\n",
       "      <th>year</th>\n",
       "      <th>km_driven</th>\n",
       "      <th>fuel</th>\n",
       "      <th>seller_type</th>\n",
       "      <th>transmission</th>\n",
       "      <th>owner</th>\n",
       "      <th>engine</th>\n",
       "      <th>max_power</th>\n",
       "      <th>torque</th>\n",
       "      <th>seats</th>\n",
       "      <th>make</th>\n",
       "      <th>model</th>\n",
       "      <th>mileage_kmpl</th>\n",
       "    </tr>\n",
       "  </thead>\n",
       "  <tbody>\n",
       "    <tr>\n",
       "      <th>6783</th>\n",
       "      <td>Maruti Alto LXi BSIII</td>\n",
       "      <td>2006</td>\n",
       "      <td>120000</td>\n",
       "      <td>Petrol</td>\n",
       "      <td>Individual</td>\n",
       "      <td>Manual</td>\n",
       "      <td>Third Owner</td>\n",
       "      <td>796 CC</td>\n",
       "      <td>46.3 bhp</td>\n",
       "      <td>62Nm@ 3000rpm</td>\n",
       "      <td>5.0</td>\n",
       "      <td>Maruti</td>\n",
       "      <td>Alto LXi BSIII</td>\n",
       "      <td>19.70</td>\n",
       "    </tr>\n",
       "    <tr>\n",
       "      <th>1073</th>\n",
       "      <td>Toyota Fortuner 2.8 2WD AT BSIV</td>\n",
       "      <td>2018</td>\n",
       "      <td>100000</td>\n",
       "      <td>Diesel</td>\n",
       "      <td>Dealer</td>\n",
       "      <td>Automatic</td>\n",
       "      <td>First Owner</td>\n",
       "      <td>2755 CC</td>\n",
       "      <td>174.5 bhp</td>\n",
       "      <td>450Nm@ 1600-2400rpm</td>\n",
       "      <td>7.0</td>\n",
       "      <td>Toyota</td>\n",
       "      <td>Fortuner 2.8 2WD AT BSIV</td>\n",
       "      <td>12.90</td>\n",
       "    </tr>\n",
       "    <tr>\n",
       "      <th>7756</th>\n",
       "      <td>BMW 3 Series 320d GT Luxury Line</td>\n",
       "      <td>2017</td>\n",
       "      <td>39000</td>\n",
       "      <td>Diesel</td>\n",
       "      <td>Dealer</td>\n",
       "      <td>Automatic</td>\n",
       "      <td>First Owner</td>\n",
       "      <td>1995 CC</td>\n",
       "      <td>187.74 bhp</td>\n",
       "      <td>380Nm@ 1750-2750rpm</td>\n",
       "      <td>5.0</td>\n",
       "      <td>BMW</td>\n",
       "      <td>3 Series 320d GT Luxury Line</td>\n",
       "      <td>19.59</td>\n",
       "    </tr>\n",
       "    <tr>\n",
       "      <th>144</th>\n",
       "      <td>Toyota Corolla Altis 1.8 G CVT</td>\n",
       "      <td>2013</td>\n",
       "      <td>39000</td>\n",
       "      <td>Petrol</td>\n",
       "      <td>Dealer</td>\n",
       "      <td>Automatic</td>\n",
       "      <td>First Owner</td>\n",
       "      <td>1798 CC</td>\n",
       "      <td>138.03 bhp</td>\n",
       "      <td>173Nm@ 4000rpm</td>\n",
       "      <td>5.0</td>\n",
       "      <td>Toyota</td>\n",
       "      <td>Corolla Altis 1.8 G CVT</td>\n",
       "      <td>14.28</td>\n",
       "    </tr>\n",
       "    <tr>\n",
       "      <th>6424</th>\n",
       "      <td>Maruti Swift Dzire VDI</td>\n",
       "      <td>2013</td>\n",
       "      <td>70000</td>\n",
       "      <td>Diesel</td>\n",
       "      <td>Individual</td>\n",
       "      <td>Manual</td>\n",
       "      <td>Second Owner</td>\n",
       "      <td>1248 CC</td>\n",
       "      <td>74 bhp</td>\n",
       "      <td>190Nm@ 2000rpm</td>\n",
       "      <td>5.0</td>\n",
       "      <td>Maruti</td>\n",
       "      <td>Swift Dzire VDI</td>\n",
       "      <td>23.40</td>\n",
       "    </tr>\n",
       "    <tr>\n",
       "      <th>...</th>\n",
       "      <td>...</td>\n",
       "      <td>...</td>\n",
       "      <td>...</td>\n",
       "      <td>...</td>\n",
       "      <td>...</td>\n",
       "      <td>...</td>\n",
       "      <td>...</td>\n",
       "      <td>...</td>\n",
       "      <td>...</td>\n",
       "      <td>...</td>\n",
       "      <td>...</td>\n",
       "      <td>...</td>\n",
       "      <td>...</td>\n",
       "      <td>...</td>\n",
       "    </tr>\n",
       "    <tr>\n",
       "      <th>5226</th>\n",
       "      <td>Mahindra Scorpio 2006-2009 VLX 2WD 7 Str BSIII</td>\n",
       "      <td>2009</td>\n",
       "      <td>120000</td>\n",
       "      <td>Diesel</td>\n",
       "      <td>Individual</td>\n",
       "      <td>Manual</td>\n",
       "      <td>First Owner</td>\n",
       "      <td>2179 CC</td>\n",
       "      <td>120 bhp</td>\n",
       "      <td>290Nm@ 1800-2800rpm</td>\n",
       "      <td>7.0</td>\n",
       "      <td>Mahindra</td>\n",
       "      <td>Scorpio 2006-2009 VLX 2WD 7 Str BSIII</td>\n",
       "      <td>12.05</td>\n",
       "    </tr>\n",
       "    <tr>\n",
       "      <th>5390</th>\n",
       "      <td>Maruti Swift Dzire VDI</td>\n",
       "      <td>2014</td>\n",
       "      <td>80000</td>\n",
       "      <td>Diesel</td>\n",
       "      <td>Individual</td>\n",
       "      <td>Manual</td>\n",
       "      <td>Second Owner</td>\n",
       "      <td>1248 CC</td>\n",
       "      <td>74 bhp</td>\n",
       "      <td>190Nm@ 2000rpm</td>\n",
       "      <td>5.0</td>\n",
       "      <td>Maruti</td>\n",
       "      <td>Swift Dzire VDI</td>\n",
       "      <td>23.40</td>\n",
       "    </tr>\n",
       "    <tr>\n",
       "      <th>860</th>\n",
       "      <td>Hyundai i20 Asta Option 1.2</td>\n",
       "      <td>2016</td>\n",
       "      <td>35000</td>\n",
       "      <td>Petrol</td>\n",
       "      <td>Individual</td>\n",
       "      <td>Manual</td>\n",
       "      <td>First Owner</td>\n",
       "      <td>1197 CC</td>\n",
       "      <td>81.83 bhp</td>\n",
       "      <td>114.7Nm@ 4000rpm</td>\n",
       "      <td>5.0</td>\n",
       "      <td>Hyundai</td>\n",
       "      <td>i20 Asta Option 1.2</td>\n",
       "      <td>18.60</td>\n",
       "    </tr>\n",
       "    <tr>\n",
       "      <th>7603</th>\n",
       "      <td>Maruti Swift Dzire VDI</td>\n",
       "      <td>2019</td>\n",
       "      <td>27000</td>\n",
       "      <td>Diesel</td>\n",
       "      <td>Individual</td>\n",
       "      <td>Manual</td>\n",
       "      <td>First Owner</td>\n",
       "      <td>1248 CC</td>\n",
       "      <td>74.02 bhp</td>\n",
       "      <td>190Nm@ 2000rpm</td>\n",
       "      <td>5.0</td>\n",
       "      <td>Maruti</td>\n",
       "      <td>Swift Dzire VDI</td>\n",
       "      <td>28.40</td>\n",
       "    </tr>\n",
       "    <tr>\n",
       "      <th>7270</th>\n",
       "      <td>Maruti 800 AC</td>\n",
       "      <td>2006</td>\n",
       "      <td>70000</td>\n",
       "      <td>Petrol</td>\n",
       "      <td>Individual</td>\n",
       "      <td>Manual</td>\n",
       "      <td>Second Owner</td>\n",
       "      <td>796 CC</td>\n",
       "      <td>37 bhp</td>\n",
       "      <td>59Nm@ 2500rpm</td>\n",
       "      <td>4.0</td>\n",
       "      <td>Maruti</td>\n",
       "      <td>800 AC</td>\n",
       "      <td>16.10</td>\n",
       "    </tr>\n",
       "  </tbody>\n",
       "</table>\n",
       "<p>5689 rows × 14 columns</p>\n",
       "</div>"
      ],
      "text/plain": [
       "                                                name  year  km_driven    fuel  \\\n",
       "6783                           Maruti Alto LXi BSIII  2006     120000  Petrol   \n",
       "1073                 Toyota Fortuner 2.8 2WD AT BSIV  2018     100000  Diesel   \n",
       "7756                BMW 3 Series 320d GT Luxury Line  2017      39000  Diesel   \n",
       "144                   Toyota Corolla Altis 1.8 G CVT  2013      39000  Petrol   \n",
       "6424                          Maruti Swift Dzire VDI  2013      70000  Diesel   \n",
       "...                                              ...   ...        ...     ...   \n",
       "5226  Mahindra Scorpio 2006-2009 VLX 2WD 7 Str BSIII  2009     120000  Diesel   \n",
       "5390                          Maruti Swift Dzire VDI  2014      80000  Diesel   \n",
       "860                      Hyundai i20 Asta Option 1.2  2016      35000  Petrol   \n",
       "7603                          Maruti Swift Dzire VDI  2019      27000  Diesel   \n",
       "7270                                   Maruti 800 AC  2006      70000  Petrol   \n",
       "\n",
       "     seller_type transmission         owner   engine   max_power  \\\n",
       "6783  Individual       Manual   Third Owner   796 CC    46.3 bhp   \n",
       "1073      Dealer    Automatic   First Owner  2755 CC   174.5 bhp   \n",
       "7756      Dealer    Automatic   First Owner  1995 CC  187.74 bhp   \n",
       "144       Dealer    Automatic   First Owner  1798 CC  138.03 bhp   \n",
       "6424  Individual       Manual  Second Owner  1248 CC      74 bhp   \n",
       "...          ...          ...           ...      ...         ...   \n",
       "5226  Individual       Manual   First Owner  2179 CC     120 bhp   \n",
       "5390  Individual       Manual  Second Owner  1248 CC      74 bhp   \n",
       "860   Individual       Manual   First Owner  1197 CC   81.83 bhp   \n",
       "7603  Individual       Manual   First Owner  1248 CC   74.02 bhp   \n",
       "7270  Individual       Manual  Second Owner   796 CC      37 bhp   \n",
       "\n",
       "                   torque  seats      make  \\\n",
       "6783        62Nm@ 3000rpm    5.0    Maruti   \n",
       "1073  450Nm@ 1600-2400rpm    7.0    Toyota   \n",
       "7756  380Nm@ 1750-2750rpm    5.0       BMW   \n",
       "144        173Nm@ 4000rpm    5.0    Toyota   \n",
       "6424       190Nm@ 2000rpm    5.0    Maruti   \n",
       "...                   ...    ...       ...   \n",
       "5226  290Nm@ 1800-2800rpm    7.0  Mahindra   \n",
       "5390       190Nm@ 2000rpm    5.0    Maruti   \n",
       "860      114.7Nm@ 4000rpm    5.0   Hyundai   \n",
       "7603       190Nm@ 2000rpm    5.0    Maruti   \n",
       "7270        59Nm@ 2500rpm    4.0    Maruti   \n",
       "\n",
       "                                      model  mileage_kmpl  \n",
       "6783                         Alto LXi BSIII         19.70  \n",
       "1073               Fortuner 2.8 2WD AT BSIV         12.90  \n",
       "7756           3 Series 320d GT Luxury Line         19.59  \n",
       "144                 Corolla Altis 1.8 G CVT         14.28  \n",
       "6424                        Swift Dzire VDI         23.40  \n",
       "...                                     ...           ...  \n",
       "5226  Scorpio 2006-2009 VLX 2WD 7 Str BSIII         12.05  \n",
       "5390                        Swift Dzire VDI         23.40  \n",
       "860                     i20 Asta Option 1.2         18.60  \n",
       "7603                        Swift Dzire VDI         28.40  \n",
       "7270                                 800 AC         16.10  \n",
       "\n",
       "[5689 rows x 14 columns]"
      ]
     },
     "execution_count": 77,
     "metadata": {},
     "output_type": "execute_result"
    }
   ],
   "source": [
    "def convert_to_kmpl(row):\n",
    "    kmpl_rx = r\"(\\d*\\.?\\d+)\\s*(kmpl)\"\n",
    "    kmkg_rx = r\"(\\d*\\.?\\d+)\\s*(km/kg)\"\n",
    "\n",
    "    conversion_factor = 1.39\n",
    "\n",
    "    mileage_value = None\n",
    "\n",
    "    # Si el fuel es Diesel o Petrol y tiene kmpl, simplemente extraemos el número\n",
    "    if row['fuel'].lower() in ['diesel', 'petrol']:\n",
    "        match = re.search(kmpl_rx, row['mileage'])\n",
    "        if match:\n",
    "            mileage_value = float(match.group(1))\n",
    "\n",
    "    # Si el fuel es CNG o LPG y tiene km/kg, convertimos a kmpl\n",
    "    elif row['fuel'].lower() in ['cng', 'lpg']:\n",
    "        match = re.search(kmkg_rx, row['mileage'])\n",
    "        if match:\n",
    "            kmkg_value = float(match.group(1))\n",
    "            mileage_value = kmkg_value * conversion_factor  # Convertimos a kmpl\n",
    "\n",
    "    return mileage_value\n",
    "\n",
    "mileage_non_null = X_train[X_train['mileage'].notnull()].copy()\n",
    "X_train['mileage_kmpl'] = mileage_non_null.apply(convert_to_kmpl, axis=1)\n",
    "X_train.drop(columns=['mileage'])"
   ]
  },
  {
   "cell_type": "code",
   "execution_count": 79,
   "metadata": {},
   "outputs": [
    {
     "data": {
      "text/plain": [
       "30"
      ]
     },
     "execution_count": 79,
     "metadata": {},
     "output_type": "execute_result"
    }
   ],
   "source": [
    "len(X_train['make'].unique())\n"
   ]
  },
  {
   "cell_type": "code",
   "execution_count": 80,
   "metadata": {},
   "outputs": [
    {
     "data": {
      "text/plain": [
       "1782"
      ]
     },
     "execution_count": 80,
     "metadata": {},
     "output_type": "execute_result"
    }
   ],
   "source": [
    "len(X_train['model'].unique())"
   ]
  },
  {
   "cell_type": "code",
   "execution_count": 57,
   "metadata": {},
   "outputs": [],
   "source": [
    "def impute_max_power_with_equivalent_car(df):\n",
    "  for idx, row in df[(df['max_power'].isin(['bhp', '0']))].iterrows():\n",
    "    similar_condition = (df['name'] == row['name']) & (df['year'] == row['year']) & (df['fuel'] == row['fuel'])\n",
    "    similar_vehicles = df[similar_condition]\n",
    "\n",
    "    if not similar_vehicles.empty:\n",
    "      df.at[idx, 'max_power'] = similar_vehicles['max_power'].iloc[0]\n",
    "  return df\n",
    "\n",
    "X_train['max_power'] = impute_max_power_with_equivalent_car(X_train)['max_power']"
   ]
  },
  {
   "cell_type": "code",
   "execution_count": 58,
   "metadata": {},
   "outputs": [],
   "source": [
    "def standardize_torque(torque_str):\n",
    "    if pd.isna(torque_str):\n",
    "        return {'torque_peak_power': np.nan, 'torque_peak_speed': np.nan}\n",
    "\n",
    "    # Regex patterns for different torque formats\n",
    "    patterns = [\n",
    "        r\"(\\d*\\.?\\d+)\\s*(kgm|nm)?\\s*@\\s*([-\\d\\s,]+)\\s*(rpm)?\",\n",
    "        r\"(\\d*\\.?\\d+)\\s*(kgm|nm)?\\s*at\\s*([-\\d\\s,]+)\\s*(rpm)?\",\n",
    "        r\"(\\d*\\.?\\d+)\\s*@\\s*([-\\d\\s,]+)\\s*\\(kgm@\\s*rpm\\)\",\n",
    "        r\"(\\d*\\.?\\d+)\\s*kgm\\s*at\\s*([-\\d\\s,]+)\\s*(rpm)?\",\n",
    "        r\"(\\d*\\.?\\d+)\\s*\\((\\d*\\.?\\d+)\\s*kgm\\)\\s*@\\s*([-\\d\\s,]+)\\s*(rpm)?\",\n",
    "        r\"(\\d*\\.?\\d+)\\s*\\((\\d*\\.?\\d+)\\)\\s*@\\s*([-\\d\\s,]+)\\s*(rpm)?\",\n",
    "        r\"(\\d*\\.?\\d+)\\s*(kgm|nm)?\\s*/\\s*([-\\d\\s,]+)\\s*(rpm)?\",\n",
    "        r\"(\\d*\\.?\\d+)\\s*/\\s*([-\\d\\s,]+)\"\n",
    "    ]\n",
    "\n",
    "    # Initialize default values\n",
    "    torque_peak_power = None\n",
    "    torque_peak_speed = None\n",
    "\n",
    "    for pattern in patterns:\n",
    "        match = re.findall(pattern, torque_str.lower())\n",
    "        if match:\n",
    "            # Determine the number of groups matched and unpack accordingly\n",
    "            if len(match[0]) == 4:\n",
    "                value, unit, rpm_range, _ = match[0]\n",
    "            elif len(match[0]) == 3:\n",
    "                value, unit, rpm_range = match[0]\n",
    "                rpm_range = rpm_range.strip().replace(',', '')  # Clean up the rpm range\n",
    "            elif len(match[0]) == 2:\n",
    "                value, rpm_range = match[0]\n",
    "                unit = None\n",
    "            else:\n",
    "                continue\n",
    "\n",
    "            # Convert value to float\n",
    "            value = float(value)\n",
    "\n",
    "            # Convert kgm to Nm if necessary\n",
    "            if 'kgm' in torque_str.lower() or (unit and 'kgm' in unit):\n",
    "                value *= 9.81  # Convert kgm to Nm\n",
    "\n",
    "            # Store torque value\n",
    "            torque_peak_power = value\n",
    "\n",
    "            # Extract maximum RPM from range if available\n",
    "            if rpm_range:\n",
    "                # Handle ranges like \"1800-2000\" and single values with commas\n",
    "                rpm_range = rpm_range.replace(',', '')  # Remove commas from the RPM range\n",
    "                if '-' in rpm_range:\n",
    "                    rpm_values = list(map(int, rpm_range.split('-')))\n",
    "                    torque_peak_speed = max(rpm_values)  # Take the max RPM from the range\n",
    "                else:\n",
    "                    torque_peak_speed = int(rpm_range.strip())  # Single RPM value\n",
    "\n",
    "            break  # Stop after the first match\n",
    "\n",
    "    # Return the results as a dictionary\n",
    "    return {'torque_peak_power': torque_peak_power, 'torque_peak_speed': torque_peak_speed}"
   ]
  },
  {
   "cell_type": "code",
   "execution_count": 59,
   "metadata": {},
   "outputs": [],
   "source": [
    "engine_non_null = X_train[X_train['engine'].notnull()].copy()\n",
    "X_train['engine_cc'] = engine_non_null['engine'].str.replace(r'[^0-9.]+', '', regex=True)\n",
    "X_train['engine_cc'] = pd.to_numeric(X_train['engine_cc'], errors='coerce')"
   ]
  },
  {
   "cell_type": "code",
   "execution_count": 60,
   "metadata": {},
   "outputs": [],
   "source": [
    "max_power_non_null = X_train[X_train['max_power'].notnull()].copy()\n",
    "X_train['max_power_bhp'] = mileage_non_null['max_power'].str.replace(r'[^0-9.]+', '', regex=True)\n",
    "X_train['max_power_bhp'] = pd.to_numeric(X_train['max_power_bhp'], errors='coerce')"
   ]
  },
  {
   "cell_type": "code",
   "execution_count": 61,
   "metadata": {},
   "outputs": [],
   "source": [
    "torque_results = X_train['torque'].apply(standardize_torque)\n",
    "\n",
    "X_train['torque_peak_power'] = torque_results.apply(lambda x: x['torque_peak_power'])\n",
    "X_train['torque_peak_speed'] = torque_results.apply(lambda x: x['torque_peak_speed'])"
   ]
  },
  {
   "cell_type": "code",
   "execution_count": 62,
   "metadata": {},
   "outputs": [],
   "source": [
    "X_train = X_train.drop(columns=['name', 'mileage', 'engine', 'max_power', 'torque'])"
   ]
  },
  {
   "cell_type": "code",
   "execution_count": 63,
   "metadata": {},
   "outputs": [],
   "source": [
    "owner_mapping = {\n",
    "    'First Owner': 1,\n",
    "    'Second Owner': 2,\n",
    "    'Third Owner': 3,\n",
    "    'Fourth & Above Owner': 4,\n",
    "    'Test Drive Car': 5\n",
    "}\n",
    "\n",
    "X_train['owner'] = X_train['owner'].map(owner_mapping)"
   ]
  },
  {
   "cell_type": "code",
   "execution_count": null,
   "metadata": {},
   "outputs": [],
   "source": [
    "X_train['seats'] = X_train['seats'].round().astype(int)"
   ]
  },
  {
   "cell_type": "code",
   "execution_count": null,
   "metadata": {},
   "outputs": [],
   "source": [
    "X_train"
   ]
  },
  {
   "cell_type": "markdown",
   "metadata": {},
   "source": [
    "## Completar nulls categoricos"
   ]
  },
  {
   "cell_type": "code",
   "execution_count": 40,
   "metadata": {},
   "outputs": [],
   "source": [
    "categorical_cols = ['fuel', 'seller_type', 'transmission', 'make']"
   ]
  },
  {
   "cell_type": "code",
   "execution_count": 42,
   "metadata": {},
   "outputs": [],
   "source": [
    "encoder = OneHotEncoder(drop='first', sparse_output=False)\n",
    "\n",
    "# Fit and transform the categorical columns\n",
    "encoded_columns = encoder.fit_transform(X_train[categorical_cols])\n",
    "\n",
    "encoded_df = pd.DataFrame(encoded_columns, columns=encoder.get_feature_names_out(categorical_cols))\n",
    "\n",
    "encoded_df.index = X_train.index\n",
    "X_train = pd.concat([X_train.drop(columns=['fuel', 'seller_type', 'transmission']), encoded_df], axis=1)"
   ]
  },
  {
   "cell_type": "markdown",
   "metadata": {},
   "source": [
    "## Completar nulls numericos"
   ]
  },
  {
   "cell_type": "code",
   "execution_count": 41,
   "metadata": {},
   "outputs": [],
   "source": [
    "numerical_cols = ['year', 'selling_price', 'km_driven', 'owner', 'seats', 'mileage_kmpl', 'engine_cc', 'max_power_bhp']"
   ]
  },
  {
   "cell_type": "code",
   "execution_count": null,
   "metadata": {},
   "outputs": [],
   "source": [
    "data_for_imputation = X_train.drop(['model', 'make'], axis=1)\n",
    "\n",
    "data_for_imputation"
   ]
  },
  {
   "cell_type": "code",
   "execution_count": null,
   "metadata": {},
   "outputs": [],
   "source": [
    "# Initialize and fit the imputer\n",
    "imputer = IterativeImputer(random_state=42, max_iter=10, imputation_order='random')\n",
    "X_train_imputed = imputer.fit_transform(data_for_imputation)\n",
    "\n",
    "# Convert the imputed NumPy array back to a DataFrame\n",
    "X_train_imputed_df = pd.DataFrame(X_train_imputed, columns=data_for_imputation.columns, index=X_train.index)\n",
    "\n",
    "for column in ['mileage_kmpl', 'engine_cc', 'max_power_bhp', 'seats']:\n",
    "    X_train[f'{column}_was_imputed'] = X_train[column].isnull()\n",
    "\n",
    "# Update the original X_train with the imputed values\n",
    "X_train.update(X_train_imputed_df)\n",
    "\n",
    "X_train"
   ]
  },
  {
   "cell_type": "markdown",
   "metadata": {},
   "source": [
    "# Feature engineer"
   ]
  },
  {
   "cell_type": "markdown",
   "metadata": {},
   "source": [
    "# Feature transformation"
   ]
  },
  {
   "cell_type": "markdown",
   "metadata": {},
   "source": [
    "Generar pipeline con todos los pasos previos para aplicarlos en nuevos datos y tambien escalar los datos"
   ]
  },
  {
   "cell_type": "code",
   "execution_count": null,
   "metadata": {},
   "outputs": [],
   "source": [
    "preprocessor = ColumnTransformer(\n",
    "    transformers=[\n",
    "        ('num', StandardScaler(), numerical_cols),  # Escala las variables numéricas\n",
    "        ('cat', OneHotEncoder(sparse=False, drop='first'), categorical_cols)  # Codifica las categóricas con OneHotEncoding\n",
    "    ]\n",
    ")"
   ]
  }
 ],
 "metadata": {
  "kernelspec": {
   "display_name": "Python 3",
   "language": "python",
   "name": "python3"
  },
  "language_info": {
   "codemirror_mode": {
    "name": "ipython",
    "version": 3
   },
   "file_extension": ".py",
   "mimetype": "text/x-python",
   "name": "python",
   "nbconvert_exporter": "python",
   "pygments_lexer": "ipython3",
   "version": "3.11.4"
  }
 },
 "nbformat": 4,
 "nbformat_minor": 2
}
