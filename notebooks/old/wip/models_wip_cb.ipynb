{
 "cells": [
  {
   "metadata": {},
   "cell_type": "markdown",
   "source": [
    "## Construcción del modelo\n",
    "\n",
    "Apalancados en la ingeniería de features, creamos un conjunto de clases a utilizar en la definición de pipelines, que nos permitan reproducir y modificar con facilidad los pasos de preprocesamiento, previos al entrenamiento de un modelo: "
   ],
   "id": "83fad9f9ac21765e"
  },
  {
   "metadata": {
    "ExecuteTime": {
     "end_time": "2024-10-17T02:34:43.907980Z",
     "start_time": "2024-10-17T02:34:43.710406Z"
    }
   },
   "cell_type": "code",
   "source": [
    "import pandas as pd\n",
    "from sklearn.model_selection import train_test_split\n",
    "from sklearn.pipeline import Pipeline\n",
    "from sklearn.preprocessing import StandardScaler\n",
    "from sklearn.experimental import enable_iterative_imputer\n",
    "import os\n",
    "import matplotlib.pyplot as plt\n",
    "import seaborn as sns\n",
    "import numpy as np\n",
    "\n",
    "import sys\n",
    "sys.path.append('src')\n",
    "from feature_engineering.name_splitter import NameSplitter\n",
    "from feature_engineering.owner_mapper import OwnerMapper\n",
    "from feature_engineering.seat_rounder import SeatRounder\n",
    "from feature_engineering.max_power_converter import MaxPowerConverter\n",
    "from feature_engineering.engine_converter import EngineConverter\n",
    "from feature_engineering.multiple_interative_imputer import MultipleIterativeImputer\n",
    "from feature_engineering.multiple_one_hot_encoder import MultipleOneHotEncoder\n",
    "from feature_engineering.torque_standardizer import TorqueStandardizer\n",
    "from feature_engineering.mileage_converter import MileageConverter\n",
    "from feature_engineering.model_dropper import ModelDropper"
   ],
   "id": "c88942f40d31447c",
   "outputs": [],
   "execution_count": 2
  },
  {
   "metadata": {
    "ExecuteTime": {
     "end_time": "2024-10-17T02:34:44.378880Z",
     "start_time": "2024-10-17T02:34:44.375882Z"
    }
   },
   "cell_type": "code",
   "source": [
    "categorical_cols = ['fuel', 'seller_type', 'transmission', 'make']\n",
    "\n",
    "# Definir pipelines para preprocesamiento\n",
    "preprocess_pipeline = Pipeline(steps=[\n",
    "    ('name_spliter', NameSplitter()),\n",
    "    ('mileage_converter', MileageConverter()),\n",
    "    ('engine_converter', EngineConverter()),\n",
    "    ('max_power_converter', MaxPowerConverter()),\n",
    "    ('torque_standardizer', TorqueStandardizer()),\n",
    "    ('map_owner', OwnerMapper()),\n",
    "    ('model_dropper', ModelDropper()),\n",
    "])\n",
    "\n",
    "preprocess_pipeline_with_one_hot_encoder = Pipeline(steps=[\n",
    "    ('preprocess_pipeline', preprocess_pipeline),\n",
    "    ('multiple_one_hot_encoder', MultipleOneHotEncoder(categorical_cols=categorical_cols)),\n",
    "])\n",
    "\n",
    "columns_to_drop_for_imputation = []\n",
    "\n",
    "full_pipeline = Pipeline(steps=[\n",
    "    ('multiple_iterative_imputer', MultipleIterativeImputer(columns_to_drop=columns_to_drop_for_imputation)),\n",
    "    ('round_seats', SeatRounder()),\n",
    "])\n",
    "\n",
    "final_pipeline = Pipeline(steps=[\n",
    "    ('preprocess_pipeline', preprocess_pipeline_with_one_hot_encoder),\n",
    "    ('full_pipeline', full_pipeline),\n",
    "])\n",
    "\n",
    "final_pipeline_with_scaler = Pipeline(steps=[\n",
    "    ('final_pipeline', final_pipeline),\n",
    "    ('scaler', StandardScaler())\n",
    "])"
   ],
   "id": "90d5bf4653df0e84",
   "outputs": [],
   "execution_count": 3
  },
  {
   "metadata": {
    "ExecuteTime": {
     "end_time": "2024-10-17T03:00:29.110270Z",
     "start_time": "2024-10-17T03:00:29.082257Z"
    }
   },
   "cell_type": "code",
   "source": [
    "# Cargar y dividir los datos\n",
    "data = pd.read_csv('../datasets/Car details v3.csv')\n",
    "\n",
    "data[\"selling_price_log\"] = np.log(data[\"selling_price\"])\n",
    "\n",
    "X = data.drop(columns=['selling_price', 'selling_price_log'])\n",
    "y = data['selling_price']\n",
    "y_log = data['selling_price_log']\n",
    "X_train, X_test, y_train, y_test = train_test_split(X, y, test_size=0.3, random_state=42)\n",
    "X_train_log, X_test_log, y_train_log, y_test_log = train_test_split(X, y_log, test_size=0.3, random_state=42)"
   ],
   "id": "1a1691a957567e91",
   "outputs": [],
   "execution_count": 50
  },
  {
   "metadata": {
    "ExecuteTime": {
     "end_time": "2024-10-17T03:04:32.274447Z",
     "start_time": "2024-10-17T03:04:29.408436Z"
    }
   },
   "cell_type": "code",
   "source": [
    "# Ajustar y transformar los datos\n",
    "X_train_processed = final_pipeline_with_scaler.fit_transform(X_train)\n",
    "X_test_processed = final_pipeline_with_scaler.transform(X_test)\n",
    "\n",
    "# Definir pipelines para preprocesamiento\n",
    "preprocess_pipeline_log = Pipeline(steps=[\n",
    "    ('name_spliter', NameSplitter()),\n",
    "    ('mileage_converter', MileageConverter()),\n",
    "    ('engine_converter', EngineConverter()),\n",
    "    ('max_power_converter', MaxPowerConverter()),\n",
    "    ('torque_standardizer', TorqueStandardizer()),\n",
    "    ('map_owner', OwnerMapper()),\n",
    "    ('model_dropper', ModelDropper()),\n",
    "])\n",
    "\n",
    "preprocess_pipeline_with_one_hot_encoder_log = Pipeline(steps=[\n",
    "    ('preprocess_pipeline', preprocess_pipeline_log),\n",
    "    ('multiple_one_hot_encoder', MultipleOneHotEncoder(categorical_cols=categorical_cols)),\n",
    "])\n",
    "\n",
    "full_pipeline_log = Pipeline(steps=[\n",
    "    ('multiple_iterative_imputer', MultipleIterativeImputer(columns_to_drop=columns_to_drop_for_imputation)),\n",
    "    ('round_seats', SeatRounder()),\n",
    "])\n",
    "\n",
    "final_pipeline_log = Pipeline(steps=[\n",
    "    ('preprocess_pipeline', preprocess_pipeline_with_one_hot_encoder_log),\n",
    "    ('full_pipeline', full_pipeline_log),\n",
    "])\n",
    "\n",
    "final_pipeline_with_scaler_log = Pipeline(steps=[\n",
    "    ('final_pipeline', final_pipeline_log),\n",
    "    ('scaler', StandardScaler())\n",
    "])\n",
    "\n",
    "X_train_processed_log = final_pipeline_with_scaler_log.fit_transform(X_train_log)\n",
    "X_test_processed_log = final_pipeline_with_scaler_log.transform(X_test_log)"
   ],
   "id": "c1b349939502a5ca",
   "outputs": [
    {
     "name": "stderr",
     "output_type": "stream",
     "text": [
      "/Users/cbarril/posgrado/materias/aprendizaje_maquinas_I/tp_amq1_17co2024/amq1/lib/python3.12/site-packages/sklearn/preprocessing/_encoders.py:242: UserWarning: Found unknown categories in columns [3] during transform. These unknown categories will be encoded as all zeros\n",
      "  warnings.warn(\n",
      "/Users/cbarril/posgrado/materias/aprendizaje_maquinas_I/tp_amq1_17co2024/amq1/lib/python3.12/site-packages/sklearn/preprocessing/_encoders.py:242: UserWarning: Found unknown categories in columns [3] during transform. These unknown categories will be encoded as all zeros\n",
      "  warnings.warn(\n"
     ]
    }
   ],
   "execution_count": 61
  },
  {
   "metadata": {},
   "cell_type": "markdown",
   "source": "Veamos de usar un Ridge como primer modelo simple. Usaremos búsqueda de grilla para el hiperparámetro alpha:",
   "id": "25b10ac86b1784c"
  },
  {
   "metadata": {
    "ExecuteTime": {
     "end_time": "2024-10-17T03:04:33.402116Z",
     "start_time": "2024-10-17T03:04:33.400272Z"
    }
   },
   "cell_type": "code",
   "source": [
    "from sklearn.metrics import mean_absolute_error, mean_squared_error, r2_score, mean_absolute_percentage_error\n",
    "\n",
    "\n",
    "from sklearn.linear_model import Ridge\n",
    "from sklearn.model_selection import GridSearchCV"
   ],
   "id": "fd62ccf793dfd4c8",
   "outputs": [],
   "execution_count": 62
  },
  {
   "metadata": {
    "ExecuteTime": {
     "end_time": "2024-10-17T03:05:01.436517Z",
     "start_time": "2024-10-17T03:04:33.896504Z"
    }
   },
   "cell_type": "code",
   "source": [
    "# Definir el modelo Ridge y la búsqueda en malla\n",
    "ridges = Ridge()\n",
    "param_grid = {\"alpha\": np.linspace(0, 20, 1000)}\n",
    "\n",
    "# GridSearchCV para los datos originales (sin logaritmo)\n",
    "grid_original = GridSearchCV(ridges, param_grid, refit=True, cv=5, scoring='neg_mean_absolute_error')\n",
    "grid_original.fit(X_train_processed, y_train)\n",
    "ridge_original = grid_original.best_estimator_\n",
    "\n",
    "ridges_log = Ridge()\n",
    "# GridSearchCV para los datos transformados con log\n",
    "grid_log = GridSearchCV(ridges_log, param_grid, refit=True, cv=5, scoring='neg_mean_absolute_error')\n",
    "grid_log.fit(X_train_processed_log, y_train_log)\n",
    "ridge_log = grid_log.best_estimator_"
   ],
   "id": "9a0b7bbece8b6317",
   "outputs": [],
   "execution_count": 63
  },
  {
   "metadata": {
    "ExecuteTime": {
     "end_time": "2024-10-17T03:05:13.639558Z",
     "start_time": "2024-10-17T03:05:13.566735Z"
    }
   },
   "cell_type": "code",
   "source": [
    "# Predicciones para ambos casos\n",
    "y_pred_original = ridge_original.predict(X_test_processed)\n",
    "\n",
    "# Cálculo de métricas de error para los datos originales\n",
    "mae_original = mean_absolute_error(y_test, y_pred_original)\n",
    "rmse_original = np.sqrt(mean_squared_error(y_test, y_pred_original))\n",
    "mape_original = mean_absolute_percentage_error(y_test, y_pred_original)\n",
    "r2_original = r2_score(y_test, y_pred_original)\n",
    "\n",
    "# Imprimir resultados\n",
    "print(\"Resultados sin logaritmo:\")\n",
    "print(f\"MAE de testeo fue: {mae_original}\")\n",
    "print(f\"RMSE de testeo fue: {rmse_original}\")\n",
    "print(f\"MAPE de testeo fue: {mape_original}\")\n",
    "print(f\"R2 de testeo fue: {r2_original}\")"
   ],
   "id": "6736dd3451bbf4e4",
   "outputs": [
    {
     "name": "stdout",
     "output_type": "stream",
     "text": [
      "Resultados sin logaritmo:\n",
      "MAE de testeo fue: 163006.4090899027\n",
      "RMSE de testeo fue: 336923.71578199096\n",
      "MAPE de testeo fue: 0.4607069575470324\n",
      "R2 de testeo fue: 0.8352097251957769\n"
     ]
    }
   ],
   "execution_count": 64
  },
  {
   "metadata": {
    "ExecuteTime": {
     "end_time": "2024-10-17T03:05:14.824013Z",
     "start_time": "2024-10-17T03:05:14.730506Z"
    }
   },
   "cell_type": "code",
   "source": [
    "# Para los datos con logaritmo, debes invertir el logaritmo de las predicciones y del conjunto de test\n",
    "y_pred_log = ridge_log.predict(X_test_processed_log)\n",
    "\n",
    "# Invertir logaritmo tanto para predicciones como para y_test para hacer comparaciones justas\n",
    "y_pred_log_inv = np.exp(y_pred_log)\n",
    "y_test_inv = np.exp(y_test_log)\n",
    "\n",
    "# Cálculo de métricas de error para los datos con log (ahora comparando con los valores originales)\n",
    "mae_log = mean_absolute_error(y_test_inv, y_pred_log_inv)\n",
    "rmse_log = np.sqrt(mean_squared_error(y_test_inv, y_pred_log_inv))\n",
    "mape_log = mean_absolute_percentage_error(y_test_inv, y_pred_log_inv)\n",
    "r2_log = r2_score(y_test_inv, y_pred_log_inv)\n",
    "\n",
    "print(\"\\nResultados con logaritmo:\")\n",
    "print(f\"MAE de testeo fue: {mae_log}\")\n",
    "print(f\"RMSE de testeo fue: {rmse_log}\")\n",
    "print(f\"MAPE de testeo fue: {mape_log}\")\n",
    "print(f\"R2 de testeo fue: {r2_log}\")"
   ],
   "id": "44a2814407b1f1f8",
   "outputs": [
    {
     "name": "stdout",
     "output_type": "stream",
     "text": [
      "\n",
      "Resultados con logaritmo:\n",
      "MAE de testeo fue: 111450.01825608018\n",
      "RMSE de testeo fue: 262317.13546574564\n",
      "MAPE de testeo fue: 0.19627356954087408\n",
      "R2 de testeo fue: 0.9001100635393217\n"
     ]
    }
   ],
   "execution_count": 65
  },
  {
   "metadata": {
    "ExecuteTime": {
     "end_time": "2024-10-17T03:03:02.372815Z",
     "start_time": "2024-10-17T03:03:02.367759Z"
    }
   },
   "cell_type": "code",
   "source": [
    "pd.set_option('display.float_format', lambda x: '%.3f' % x)\n",
    "\n",
    "results_df = pd.DataFrame({\n",
    "    'y_original': y_test,\n",
    "    'y_pred_original': y_pred_original,\n",
    "    'y_test_log': y_test_log,\n",
    "    'y_pred_log': y_pred_log,\n",
    "    'y_test_inv': y_test_inv,\n",
    "    'y_pred_log_inv': y_pred_log_inv,\n",
    "})"
   ],
   "id": "a9f374ea62d821fc",
   "outputs": [],
   "execution_count": 59
  },
  {
   "metadata": {
    "ExecuteTime": {
     "end_time": "2024-10-17T03:03:02.870662Z",
     "start_time": "2024-10-17T03:03:02.865772Z"
    }
   },
   "cell_type": "code",
   "source": "results_df",
   "id": "f7381d76b038fe35",
   "outputs": [
    {
     "data": {
      "text/plain": [
       "      y_original  y_pred_original  y_test_log  y_pred_log  y_test_inv  \\\n",
       "1971      198000        -2094.704      12.196      11.748  198000.000   \n",
       "4664      500000       656347.654      13.122      13.214  500000.000   \n",
       "5448      425000       594697.150      12.960      13.206  425000.000   \n",
       "3333      150000        62545.011      11.918      12.043  150000.000   \n",
       "2316      525000       440717.910      13.171      12.804  525000.000   \n",
       "...          ...              ...         ...         ...         ...   \n",
       "462       600000       463286.732      13.305      12.873  600000.000   \n",
       "1956      400000       681960.489      12.899      13.009  400000.000   \n",
       "3782      500000       601750.901      13.122      13.261  500000.000   \n",
       "799       400000       405766.891      12.899      12.983  400000.000   \n",
       "2402      425000       397181.543      12.960      12.610  425000.000   \n",
       "\n",
       "      y_pred_log_inv  \n",
       "1971      126507.310  \n",
       "4664      547758.193  \n",
       "5448      543632.482  \n",
       "3333      169963.949  \n",
       "2316      363494.173  \n",
       "...              ...  \n",
       "462       389583.806  \n",
       "1956      446243.086  \n",
       "3782      574296.616  \n",
       "799       434997.347  \n",
       "2402      299598.640  \n",
       "\n",
       "[2439 rows x 6 columns]"
      ],
      "text/html": [
       "<div>\n",
       "<style scoped>\n",
       "    .dataframe tbody tr th:only-of-type {\n",
       "        vertical-align: middle;\n",
       "    }\n",
       "\n",
       "    .dataframe tbody tr th {\n",
       "        vertical-align: top;\n",
       "    }\n",
       "\n",
       "    .dataframe thead th {\n",
       "        text-align: right;\n",
       "    }\n",
       "</style>\n",
       "<table border=\"1\" class=\"dataframe\">\n",
       "  <thead>\n",
       "    <tr style=\"text-align: right;\">\n",
       "      <th></th>\n",
       "      <th>y_original</th>\n",
       "      <th>y_pred_original</th>\n",
       "      <th>y_test_log</th>\n",
       "      <th>y_pred_log</th>\n",
       "      <th>y_test_inv</th>\n",
       "      <th>y_pred_log_inv</th>\n",
       "    </tr>\n",
       "  </thead>\n",
       "  <tbody>\n",
       "    <tr>\n",
       "      <th>1971</th>\n",
       "      <td>198000</td>\n",
       "      <td>-2094.704</td>\n",
       "      <td>12.196</td>\n",
       "      <td>11.748</td>\n",
       "      <td>198000.000</td>\n",
       "      <td>126507.310</td>\n",
       "    </tr>\n",
       "    <tr>\n",
       "      <th>4664</th>\n",
       "      <td>500000</td>\n",
       "      <td>656347.654</td>\n",
       "      <td>13.122</td>\n",
       "      <td>13.214</td>\n",
       "      <td>500000.000</td>\n",
       "      <td>547758.193</td>\n",
       "    </tr>\n",
       "    <tr>\n",
       "      <th>5448</th>\n",
       "      <td>425000</td>\n",
       "      <td>594697.150</td>\n",
       "      <td>12.960</td>\n",
       "      <td>13.206</td>\n",
       "      <td>425000.000</td>\n",
       "      <td>543632.482</td>\n",
       "    </tr>\n",
       "    <tr>\n",
       "      <th>3333</th>\n",
       "      <td>150000</td>\n",
       "      <td>62545.011</td>\n",
       "      <td>11.918</td>\n",
       "      <td>12.043</td>\n",
       "      <td>150000.000</td>\n",
       "      <td>169963.949</td>\n",
       "    </tr>\n",
       "    <tr>\n",
       "      <th>2316</th>\n",
       "      <td>525000</td>\n",
       "      <td>440717.910</td>\n",
       "      <td>13.171</td>\n",
       "      <td>12.804</td>\n",
       "      <td>525000.000</td>\n",
       "      <td>363494.173</td>\n",
       "    </tr>\n",
       "    <tr>\n",
       "      <th>...</th>\n",
       "      <td>...</td>\n",
       "      <td>...</td>\n",
       "      <td>...</td>\n",
       "      <td>...</td>\n",
       "      <td>...</td>\n",
       "      <td>...</td>\n",
       "    </tr>\n",
       "    <tr>\n",
       "      <th>462</th>\n",
       "      <td>600000</td>\n",
       "      <td>463286.732</td>\n",
       "      <td>13.305</td>\n",
       "      <td>12.873</td>\n",
       "      <td>600000.000</td>\n",
       "      <td>389583.806</td>\n",
       "    </tr>\n",
       "    <tr>\n",
       "      <th>1956</th>\n",
       "      <td>400000</td>\n",
       "      <td>681960.489</td>\n",
       "      <td>12.899</td>\n",
       "      <td>13.009</td>\n",
       "      <td>400000.000</td>\n",
       "      <td>446243.086</td>\n",
       "    </tr>\n",
       "    <tr>\n",
       "      <th>3782</th>\n",
       "      <td>500000</td>\n",
       "      <td>601750.901</td>\n",
       "      <td>13.122</td>\n",
       "      <td>13.261</td>\n",
       "      <td>500000.000</td>\n",
       "      <td>574296.616</td>\n",
       "    </tr>\n",
       "    <tr>\n",
       "      <th>799</th>\n",
       "      <td>400000</td>\n",
       "      <td>405766.891</td>\n",
       "      <td>12.899</td>\n",
       "      <td>12.983</td>\n",
       "      <td>400000.000</td>\n",
       "      <td>434997.347</td>\n",
       "    </tr>\n",
       "    <tr>\n",
       "      <th>2402</th>\n",
       "      <td>425000</td>\n",
       "      <td>397181.543</td>\n",
       "      <td>12.960</td>\n",
       "      <td>12.610</td>\n",
       "      <td>425000.000</td>\n",
       "      <td>299598.640</td>\n",
       "    </tr>\n",
       "  </tbody>\n",
       "</table>\n",
       "<p>2439 rows × 6 columns</p>\n",
       "</div>"
      ]
     },
     "execution_count": 60,
     "metadata": {},
     "output_type": "execute_result"
    }
   ],
   "execution_count": 60
  },
  {
   "metadata": {
    "ExecuteTime": {
     "end_time": "2024-10-17T02:54:30.135465Z",
     "start_time": "2024-10-17T02:54:30.132177Z"
    }
   },
   "cell_type": "code",
   "source": "y",
   "id": "f491aba6801ae396",
   "outputs": [
    {
     "data": {
      "text/plain": [
       "0       450000\n",
       "1       370000\n",
       "2       158000\n",
       "3       225000\n",
       "4       130000\n",
       "         ...  \n",
       "8123    320000\n",
       "8124    135000\n",
       "8125    382000\n",
       "8126    290000\n",
       "8127    290000\n",
       "Name: selling_price, Length: 8128, dtype: int64"
      ]
     },
     "execution_count": 34,
     "metadata": {},
     "output_type": "execute_result"
    }
   ],
   "execution_count": 34
  },
  {
   "metadata": {
    "ExecuteTime": {
     "end_time": "2024-10-17T02:54:38.684411Z",
     "start_time": "2024-10-17T02:54:38.680938Z"
    }
   },
   "cell_type": "code",
   "source": "y_log",
   "id": "b4412bd0cee97b9",
   "outputs": [
    {
     "data": {
      "text/plain": [
       "0       13.017003\n",
       "1       12.821258\n",
       "2       11.970350\n",
       "3       12.323856\n",
       "4       11.775290\n",
       "          ...    \n",
       "8123    12.676076\n",
       "8124    11.813030\n",
       "8125    12.853176\n",
       "8126    12.577636\n",
       "8127    12.577636\n",
       "Name: selling_price_log, Length: 8128, dtype: float64"
      ]
     },
     "execution_count": 35,
     "metadata": {},
     "output_type": "execute_result"
    }
   ],
   "execution_count": 35
  },
  {
   "metadata": {
    "ExecuteTime": {
     "end_time": "2024-10-17T03:06:59.814203Z",
     "start_time": "2024-10-17T03:06:59.810908Z"
    }
   },
   "cell_type": "code",
   "source": [
    "preprocess_pipeline = Pipeline(steps=[\n",
    "    ('name_spliter', NameSplitter()),\n",
    "    ('mileage_converter', MileageConverter()),\n",
    "    ('engine_converter', EngineConverter()),\n",
    "    ('max_power_converter', MaxPowerConverter()),\n",
    "    ('torque_standardizer', TorqueStandardizer()),\n",
    "    ('map_owner', OwnerMapper()),\n",
    "    ('model_dropper', ModelDropper()),\n",
    "])\n",
    "\n",
    "full_pipeline = Pipeline(steps=[\n",
    "    ('multiple_iterative_imputer', MultipleIterativeImputer(columns_to_drop=columns_to_drop_for_imputation)),\n",
    "    ('round_seats', SeatRounder()),\n",
    "])\n",
    "\n",
    "final_pipeline = Pipeline(steps=[\n",
    "    ('preprocess_pipeline', preprocess_pipeline),\n",
    "    ('full_pipeline', full_pipeline),\n",
    "])"
   ],
   "id": "5c04de77fddb69e4",
   "outputs": [],
   "execution_count": 66
  },
  {
   "metadata": {},
   "cell_type": "code",
   "outputs": [],
   "execution_count": null,
   "source": [
    "from sklearn.linear_model import LinearRegression\n",
    "from sklearn.preprocessing import StandardScaler\n",
    "\n",
    "regresion_lineal = LinearRegression()\n",
    "\n",
    "sc_X = StandardScaler()\n",
    "X_train_scaled = sc_X.fit_transform(X_train)\n",
    "X_test_scaled = sc_X.transform(X_test)\n",
    "\n",
    "regresion_lineal.fit(X_train_scaled, y_train)\n",
    "\n",
    "y_pred_lineal = regresion_lineal.predict(X_test_scaled)\n",
    "\n",
    "print(f\"El error de testeo fue: {mean_absolute_error(y_test, y_pred_lineal)}\")"
   ],
   "id": "b9eebf8d47c7990c"
  },
  {
   "metadata": {},
   "cell_type": "markdown",
   "source": [
    "- Ridge\n",
    "- Arbol regresión\n",
    "- SVR\n",
    "- Boost (hay 2)\n",
    "- Random Forest"
   ],
   "id": "de42416d2021ba03"
  }
 ],
 "metadata": {
  "kernelspec": {
   "display_name": "Python (amq1)",
   "language": "python",
   "name": "amq1"
  },
  "language_info": {
   "codemirror_mode": {
    "name": "ipython",
    "version": 2
   },
   "file_extension": ".py",
   "mimetype": "text/x-python",
   "name": "python",
   "nbconvert_exporter": "python",
   "pygments_lexer": "ipython2",
   "version": "2.7.6"
  }
 },
 "nbformat": 4,
 "nbformat_minor": 5
}
